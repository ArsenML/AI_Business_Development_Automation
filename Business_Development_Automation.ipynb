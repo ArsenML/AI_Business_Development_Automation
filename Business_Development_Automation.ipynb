{
 "cells": [
  {
   "cell_type": "code",
   "execution_count": 1,
   "id": "6e47b89d-2a97-4315-85d9-daffd21dccbc",
   "metadata": {},
   "outputs": [],
   "source": [
    "# !pip install openai==0.28 langchain jsonschema"
   ]
  },
  {
   "cell_type": "code",
   "execution_count": 2,
   "id": "15f52824-114b-4ce8-9fb8-85b5728b50fc",
   "metadata": {},
   "outputs": [],
   "source": [
    "import openai\n",
    "from langchain.chat_models import ChatOpenAI\n",
    "from langchain.prompts import PromptTemplate\n",
    "from langchain.chains import LLMChain\n",
    "import json\n",
    "from jsonschema import validate, ValidationError"
   ]
  },
  {
   "cell_type": "code",
   "execution_count": 3,
   "id": "e6c982aa-5679-4099-96a1-12b37e6f0515",
   "metadata": {},
   "outputs": [],
   "source": [
    "# DATA SCHEMA PART"
   ]
  },
  {
   "cell_type": "code",
   "execution_count": 4,
   "id": "9bb91d06-c644-4f91-bb12-abb371d698b7",
   "metadata": {},
   "outputs": [],
   "source": [
    "CUSTOMER_DATA_SCHEMA = {\n",
    "    \"type\": \"object\",\n",
    "    \"properties\": {\n",
    "        \"customer_id\": {\"type\": \"string\"},\n",
    "        \"name\": {\"type\": \"string\"},\n",
    "        \"email\": {\"type\": \"string\", \"format\": \"email\"},\n",
    "        \"company\": {\"type\": \"string\"},\n",
    "        \"position\": {\"type\": \"string\"},\n",
    "        \"linkedin\": {\"type\": \"string\", \"format\": \"uri\"},\n",
    "        \"interests\": {\n",
    "            \"type\": \"array\",\n",
    "            \"items\": {\"type\": \"string\"},\n",
    "        \"product\": {\"type\": \"string\"}\n",
    "        }\n",
    "    },\n",
    "    \"required\": [\"interests\", \"name\", \"email\", \"position\"]\n",
    "}"
   ]
  },
  {
   "cell_type": "code",
   "execution_count": 5,
   "id": "152bd6f8-6c01-4b0d-9d71-ae6fd7beaec8",
   "metadata": {},
   "outputs": [],
   "source": [
    "# Function to validate customer data against schema\n",
    "def validate_customer_data(customer_data):\n",
    "    try:\n",
    "        validate(instance=customer_data, schema=CUSTOMER_DATA_SCHEMA)\n",
    "        return True\n",
    "    except ValidationError as e:\n",
    "        print(f\"Schema Validation Error: {e.message}\")\n",
    "        return False"
   ]
  },
  {
   "cell_type": "code",
   "execution_count": 6,
   "id": "19892c77-adb2-43a5-b8c3-3c9e95970479",
   "metadata": {},
   "outputs": [],
   "source": [
    "# EMAIL DRAFT AND QA PART"
   ]
  },
  {
   "cell_type": "code",
   "execution_count": 7,
   "id": "de3e5270-8ddf-4239-9194-20e98a53b986",
   "metadata": {},
   "outputs": [],
   "source": [
    "# Define OpenAI model\n",
    "model=\"gpt-3.5-turbo\""
   ]
  },
  {
   "cell_type": "code",
   "execution_count": 8,
   "id": "1e613066-a7b3-4612-bc2e-9330b80901c3",
   "metadata": {},
   "outputs": [],
   "source": [
    "# Set OpenAI API key for define model\n",
    "openai.api_key = \"Your OpenAI API key\""
   ]
  },
  {
   "cell_type": "code",
   "execution_count": 10,
   "id": "e81ddd6e-cd0a-4c23-8040-832759969066",
   "metadata": {},
   "outputs": [],
   "source": [
    "# # To control the randomness and creativity of the generated\n",
    "# text by an LLM, use temperature\n",
    "llm = ChatOpenAI(openai_api_key=openai.api_key, temperature=0.7, max_tokens=500, model=model)"
   ]
  },
  {
   "cell_type": "code",
   "execution_count": 11,
   "id": "b949ad16-4bf9-4d1f-a224-365182f1ab60",
   "metadata": {},
   "outputs": [],
   "source": [
    "outreach_email_prompt = PromptTemplate.from_template(\n",
    "    \"\"\"\n",
    "    You are an outreach AI responsible for drafting personalized emails for potential clients.\n",
    "    Using the following customer data: {customer_data}, craft a professional and engaging email.\n",
    "    Ensure the tone is appropriate, concise, and engaging.\n",
    "    \"\"\"\n",
    "    )"
   ]
  },
  {
   "cell_type": "code",
   "execution_count": 13,
   "id": "8ac5d68f-37a1-4df7-8c70-acf738da2108",
   "metadata": {},
   "outputs": [],
   "source": [
    "outreach_email_chain = LLMChain(llm=llm, prompt=outreach_email_prompt)"
   ]
  },
  {
   "cell_type": "code",
   "execution_count": 14,
   "id": "09d595e8-610b-4b00-a3cf-8e7c8923705c",
   "metadata": {},
   "outputs": [],
   "source": [
    "qa_agent_prompt = PromptTemplate.from_template(\n",
    "    \"\"\"\n",
    "    You are a QA agent that verifies outreach messages before sending them.\n",
    "    Review the message: {draft_email}\n",
    "    Ensure correctness, professionalism, and compliance with guidelines.\n",
    "    Provide suggestions for improvements if necessary.\n",
    "    \"\"\"\n",
    ")"
   ]
  },
  {
   "cell_type": "code",
   "execution_count": 15,
   "id": "30720ecd-635c-4af9-a503-cea3c4d568b6",
   "metadata": {},
   "outputs": [],
   "source": [
    "qa_review_chain = LLMChain(llm=llm, prompt=qa_agent_prompt)"
   ]
  },
  {
   "cell_type": "code",
   "execution_count": 16,
   "id": "ecabe695-732b-45ef-be1e-a60e75cf8ffd",
   "metadata": {},
   "outputs": [],
   "source": [
    "# Function to get human approval simulates human in the loop\n",
    "def get_human_approval(draft_email, qa_feedback):\n",
    "    print(\"Draft Email:\")\n",
    "    print(draft_email)\n",
    "    print(\"QA Feedback:\")\n",
    "    print(qa_feedback)\n",
    "    approval = input(\"Do you approve this email? (yes/no): \")\n",
    "    return approval.lower() == \"yes\""
   ]
  },
  {
   "cell_type": "code",
   "execution_count": 17,
   "id": "c6ca7fc7-b407-4728-a086-27492931fbda",
   "metadata": {},
   "outputs": [],
   "source": [
    "# Main function to drft mail, QA Review and approval\n",
    "def generate_outreach_email(customer_data):\n",
    "    if not validate_customer_data(customer_data):\n",
    "        return {\"error\": \"Invalid customer data format.\"}\n",
    "    # Draft Outreach Email\n",
    "    draft_email = outreach_email_chain.run({\"customer_data\": customer_data})\n",
    "    \n",
    "    # QA Review\n",
    "    qa_feedback = qa_review_chain.run({\"draft_email\": draft_email})\n",
    "\n",
    "    # Human in the Loop Review\n",
    "    approved = get_human_approval(draft_email, qa_feedback)\n",
    "    if not approved:\n",
    "        return {\"error\": \"Email not approved by human reviewer.\"}\n",
    "    \n",
    "    return {\n",
    "        \"draft_email\": draft_email,\n",
    "        \"qa_feedback\": qa_feedback,\n",
    "        \"approved\": approved\n",
    "        \n",
    "    }"
   ]
  },
  {
   "cell_type": "code",
   "execution_count": 18,
   "id": "ce171e37-6e1d-45bc-8f45-099488361373",
   "metadata": {},
   "outputs": [],
   "source": [
    "# DATA COLLECTION FROM COMPANY NAMES"
   ]
  },
  {
   "cell_type": "code",
   "execution_count": 19,
   "id": "1e0de2bf-b578-48d9-b698-107926e902a2",
   "metadata": {},
   "outputs": [],
   "source": [
    "data_gathering_prompt = PromptTemplate.from_template(\n",
    "    \"\"\"\n",
    "    You are a data gathering AI that collects relevant personnel information from a company using public sources.\n",
    "    Identify key decision-makers, managers, or other relevant personnel within the company.\n",
    "    Gather publicly available details such as:\n",
    "    - name\n",
    "    - position\n",
    "    - email (if available)\n",
    "    - LinkedIn\n",
    "    - Interests\n",
    "    - company\n",
    "    - product\n",
    "    \n",
    "    Structure this information in a JSON format following the defined schema. \n",
    "    Input: {company_name}\n",
    "    \"\"\"\n",
    ")"
   ]
  },
  {
   "cell_type": "code",
   "execution_count": 20,
   "id": "71300ecf-4976-4033-9877-a588b5b961ec",
   "metadata": {},
   "outputs": [],
   "source": [
    "data_gathering_chain = LLMChain(llm=llm, prompt=data_gathering_prompt)"
   ]
  },
  {
   "cell_type": "code",
   "execution_count": 21,
   "id": "e5ef1cbc-e9fa-4b08-93aa-65e9dd9ee6cf",
   "metadata": {},
   "outputs": [],
   "source": [
    "# Function for collect company retrieval employers from open sources\n",
    "def collect_customer_data(company_name):\n",
    "    personnel_data = data_gathering_chain.run({\"company_name\": company_name})\n",
    "    personnel_data_2= json.loads(personnel_data)\n",
    "    personnel_data_2.pop(\"company\")\n",
    "    for i in personnel_data_2:\n",
    "        customers = personnel_data_2[i]\n",
    "    \n",
    "    return customers"
   ]
  },
  {
   "cell_type": "code",
   "execution_count": 22,
   "id": "4718adb5-c4ef-45ab-95b4-8d29b951fd91",
   "metadata": {},
   "outputs": [],
   "source": [
    "# IMPLEMENTATION PART"
   ]
  },
  {
   "cell_type": "code",
   "execution_count": 24,
   "id": "02389c4f-1231-4f9d-a7a3-aee86da2fe45",
   "metadata": {},
   "outputs": [],
   "source": [
    "customer_data = collect_customer_data(\"Google\")"
   ]
  },
  {
   "cell_type": "code",
   "execution_count": 25,
   "id": "69d04581-f623-44bc-b7c3-3c8355125162",
   "metadata": {},
   "outputs": [
    {
     "name": "stdout",
     "output_type": "stream",
     "text": [
      "[{'name': 'Sundar Pichai', 'position': 'CEO', 'email': 'sundar@google.com', 'LinkedIn': 'linkedin.com/in/sundarpichai', 'interests': ['technology', 'innovation', 'artificial intelligence'], 'product': 'Google Search'}, {'name': 'Ruth Porat', 'position': 'CFO', 'email': 'ruth@google.com', 'LinkedIn': 'linkedin.com/in/ruthporat', 'interests': ['finance', 'strategy', 'leadership'], 'product': 'Google Cloud'}, {'name': 'Hiroshi Lockheimer', 'position': 'SVP, Platforms & Ecosystems', 'email': 'hiroshi@google.com', 'LinkedIn': 'linkedin.com/in/hlockheimer', 'interests': ['mobile technology', 'operating systems', 'product development'], 'product': 'Android'}]\n"
     ]
    }
   ],
   "source": [
    "print(customer_data)"
   ]
  },
  {
   "cell_type": "code",
   "execution_count": 26,
   "id": "ae6a3f51-0691-4664-866c-c4f420a7e2d0",
   "metadata": {},
   "outputs": [],
   "source": [
    "#Here the user can select the employee for whom the draft letter should be created or can import self customer information\n",
    "#I have selected the first employee\n",
    "customer_data = customer_data[0]"
   ]
  },
  {
   "cell_type": "code",
   "execution_count": 27,
   "id": "0cbf9139-63a6-4365-8bde-91f6ac2ebaa3",
   "metadata": {},
   "outputs": [
    {
     "data": {
      "text/plain": [
       "{'name': 'Sundar Pichai',\n",
       " 'position': 'CEO',\n",
       " 'email': 'sundar@google.com',\n",
       " 'LinkedIn': 'linkedin.com/in/sundarpichai',\n",
       " 'interests': ['technology', 'innovation', 'artificial intelligence'],\n",
       " 'product': 'Google Search'}"
      ]
     },
     "execution_count": 27,
     "metadata": {},
     "output_type": "execute_result"
    }
   ],
   "source": [
    "customer_data"
   ]
  },
  {
   "cell_type": "code",
   "execution_count": 28,
   "id": "95429751-d0df-4723-883c-ac15112f4bdf",
   "metadata": {},
   "outputs": [
    {
     "name": "stdout",
     "output_type": "stream",
     "text": [
      "Draft Email:\n",
      "Subject: Exploring Collaboration Opportunities with Google Search\n",
      "\n",
      "Dear Mr. Pichai,\n",
      "\n",
      "I hope this email finds you well. My name is [Your Name], and I am reaching out to discuss potential collaboration opportunities with Google Search.\n",
      "\n",
      "Having admired your leadership at Google, I am confident that our shared interests in technology, innovation, and artificial intelligence could lead to a mutually beneficial partnership. Your vision for the future of technology aligns perfectly with the innovative capabilities of Google Search.\n",
      "\n",
      "I would love to explore how we can work together to enhance user experiences and drive advancements in the digital landscape. Your expertise and insights would be invaluable in shaping the future of our product.\n",
      "\n",
      "I invite you to connect on LinkedIn at [LinkedIn Profile Link] to continue our conversation and explore potential synergies between our organizations.\n",
      "\n",
      "Thank you for considering this opportunity, Mr. Pichai. I look forward to the possibility of collaborating with you and the talented team at Google.\n",
      "\n",
      "Warm regards,\n",
      "\n",
      "[Your Name]\n",
      "[Your Position]\n",
      "[Your Contact Information]\n",
      "QA Feedback:\n",
      "Suggestions for improvements:\n",
      "1. Specify the reason for reaching out in more detail. What specific collaboration opportunities are you interested in with Google Search?\n",
      "2. Consider adding a brief introduction about your company or background to provide more context.\n",
      "3. Avoid using phrases like \"I hope this email finds you well\" as they are commonly seen as unnecessary in professional emails.\n",
      "4. Provide a clear call to action or next steps for Mr. Pichai to take if interested in exploring collaboration opportunities.\n",
      "5. Double-check for any grammatical errors or typos before sending the message.\n"
     ]
    },
    {
     "name": "stdin",
     "output_type": "stream",
     "text": [
      "Do you approve this email? (yes/no):  yES\n"
     ]
    }
   ],
   "source": [
    "result = generate_outreach_email(customer_data)"
   ]
  },
  {
   "cell_type": "code",
   "execution_count": 44,
   "id": "b0398824-1555-4b75-bb20-e55975c370f8",
   "metadata": {},
   "outputs": [
    {
     "data": {
      "text/plain": [
       "{'draft_email': \"Subject: Exploring Opportunities with Google Search\\n\\nDear Mr. Pichai,\\n\\nI hope this email finds you well. I am reaching out to express my admiration for the incredible work you have done at Google, particularly in advancing Artificial Intelligence and technology to enhance productivity.\\n\\nAs the CEO of Google, your leadership and vision have undoubtedly shaped the future of the tech industry. Your passion for innovation aligns perfectly with our interest in leveraging cutting-edge technology to drive productivity.\\n\\nI believe that Google Search, with its unparalleled capabilities, has revolutionized the way we access information. I am excited about the potential opportunities for collaboration and innovation that could arise from working with a company of Google's caliber.\\n\\nI would love to discuss how we can potentially partner to further enhance productivity and technological advancements. Please feel free to reach out to me at your convenience.\\n\\nThank you for considering this opportunity. I look forward to the possibility of working together.\\n\\nWarm regards,\\n\\n[Your Name]\\n[Your Position]\\n[Your Contact Information]\",\n",
       " 'qa_feedback': \"Overall, the message is well-written and professional. However, here are a few suggestions for improvements:\\n\\n1. Consider adding a more specific reason for reaching out to Mr. Pichai. For example, mentioning a specific project or area of collaboration could make the message more personalized and engaging.\\n\\n2. It might be helpful to include a brief introduction of yourself and your company at the beginning of the message to provide context for Mr. Pichai.\\n\\n3. Double-check for any grammatical errors or typos before sending the message.\\n\\n4. Ensure that the tone of the message is respectful and professional throughout.\\n\\nBy making these small adjustments, the message will be even more effective in capturing Mr. Pichai's attention and encouraging a positive response.\",\n",
       " 'approved': True}"
      ]
     },
     "execution_count": 44,
     "metadata": {},
     "output_type": "execute_result"
    }
   ],
   "source": [
    "# The main result\n",
    "result"
   ]
  },
  {
   "cell_type": "code",
   "execution_count": 29,
   "id": "877d7cbb-1139-488b-a7f9-df4c53e1b9f9",
   "metadata": {},
   "outputs": [],
   "source": [
    "# PART OF FOLLOW-UP "
   ]
  },
  {
   "cell_type": "code",
   "execution_count": 30,
   "id": "546d06e5-388d-42d8-9fa9-488cff8ad313",
   "metadata": {},
   "outputs": [],
   "source": [
    "follow_up_prompt = PromptTemplate.from_template(\n",
    "    \"\"\"\n",
    "    You are an AI assistant responsible for scheduling follow-ups with potential clients.\n",
    "    Based on the response from the customer, determine the best follow-up date and message.\n",
    "    Customer Response: {customer_response}\n",
    "    Customer Data: {customer_data}\n",
    "    Provide a follow-up schedule and draft message.\n",
    "    \"\"\"\n",
    ")"
   ]
  },
  {
   "cell_type": "code",
   "execution_count": 31,
   "id": "61b5482c-0bd3-400d-8c8c-8d01ca9825df",
   "metadata": {},
   "outputs": [],
   "source": [
    "follow_up_chain = LLMChain(llm=llm, prompt=follow_up_prompt)"
   ]
  },
  {
   "cell_type": "code",
   "execution_count": 32,
   "id": "72930b40-8482-4dbb-8099-f192a2ed5758",
   "metadata": {},
   "outputs": [],
   "source": [
    "# The function for generate follow_uo if exist customer response\n",
    "def scheduling_follow_ups(customer_data, customer_response=None):\n",
    "    follow_up = None\n",
    "    if customer_response:\n",
    "        follow_up = follow_up_chain.run({\"customer_response\": customer_response, \"customer_data\": customer_data})\n",
    "    return follow_up\n",
    "    "
   ]
  },
  {
   "cell_type": "code",
   "execution_count": 33,
   "id": "a08a2914-d1ad-4f71-913c-d586998a3273",
   "metadata": {},
   "outputs": [
    {
     "data": {
      "text/plain": [
       "'Follow-up Date: Two weeks from today\\n\\nDraft Message:\\nSubject: Follow-up on Potential Collaboration Opportunity\\n\\nDear Sundar Pichai,\\n\\nI hope this message finds you well. I wanted to follow up on our previous conversation regarding a potential collaboration opportunity with Google Search. I understand that you are interested but require more details, and I wanted to assure you that we are excited about the possibility of working together.\\n\\nGiven your busy schedule as CEO of Google, I propose scheduling a follow-up meeting in two weeks to provide you with the additional information you need. Please let me know a convenient time for you, and I will make sure to accommodate it.\\n\\nIn the meantime, feel free to reach out if you have any questions or need further clarification on any aspect of our proposal. I look forward to the opportunity to discuss this further with you.\\n\\nThank you for your time and consideration.\\n\\nBest regards,\\n\\n[Your Name]\\n[Your Position]\\n[Your Contact Information]'"
      ]
     },
     "execution_count": 33,
     "metadata": {},
     "output_type": "execute_result"
    }
   ],
   "source": [
    "follow_up =scheduling_follow_ups(customer_data, customer_response=\"Interested, but needs more details in two weeks.\")\n",
    "follow_up"
   ]
  },
  {
   "cell_type": "code",
   "execution_count": null,
   "id": "f25da81b-72cf-49dd-8e62-d00c6544b80d",
   "metadata": {},
   "outputs": [],
   "source": []
  }
 ],
 "metadata": {
  "kernelspec": {
   "display_name": "Python 3 (ipykernel)",
   "language": "python",
   "name": "python3"
  },
  "language_info": {
   "codemirror_mode": {
    "name": "ipython",
    "version": 3
   },
   "file_extension": ".py",
   "mimetype": "text/x-python",
   "name": "python",
   "nbconvert_exporter": "python",
   "pygments_lexer": "ipython3",
   "version": "3.12.1"
  }
 },
 "nbformat": 4,
 "nbformat_minor": 5
}
